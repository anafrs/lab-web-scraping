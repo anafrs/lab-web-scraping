{
 "cells": [
  {
   "cell_type": "markdown",
   "metadata": {},
   "source": [
    "# Web Scraping Lab\n",
    "\n",
    "You will find in this notebook some scrapy exercises to practise your scraping skills.\n",
    "\n",
    "**Tips:**\n",
    "\n",
    "- Check the response status code for each request to ensure you have obtained the intended content.\n",
    "- Print the response text in each request to understand the kind of info you are getting and its format.\n",
    "- Check for patterns in the response text to extract the data/info requested in each question.\n",
    "- Visit the urls below and take a look at their source code through Chrome DevTools. You'll need to identify the html tags, special class names, etc used in the html content you are expected to extract.\n",
    "\n",
    "**Resources**:\n",
    "- [Requests library](http://docs.python-requests.org/en/master/#the-user-guide)\n",
    "- [Beautiful Soup Doc](https://www.crummy.com/software/BeautifulSoup/bs4/doc/)\n",
    "- [Urllib](https://docs.python.org/3/library/urllib.html#module-urllib)\n",
    "- [re lib](https://docs.python.org/3/library/re.html)\n",
    "- [lxml lib](https://lxml.de/)\n",
    "- [Scrapy](https://scrapy.org/)\n",
    "- [List of HTTP status codes](https://en.wikipedia.org/wiki/List_of_HTTP_status_codes)\n",
    "- [HTML basics](http://www.simplehtmlguide.com/cheatsheet.php)\n",
    "- [CSS basics](https://www.cssbasics.com/#page_start)"
   ]
  },
  {
   "cell_type": "markdown",
   "metadata": {},
   "source": [
    "#### Below are the libraries and modules you may need. `requests`,  `BeautifulSoup` and `pandas` are already imported for you. If you prefer to use additional libraries feel free to do it."
   ]
  },
  {
   "cell_type": "code",
   "execution_count": 1,
   "metadata": {},
   "outputs": [],
   "source": [
    "import requests\n",
    "from bs4 import BeautifulSoup\n",
    "import pandas as pd\n",
    "import re\n",
    "import selenium"
   ]
  },
  {
   "cell_type": "markdown",
   "metadata": {},
   "source": [
    "#### Download, parse (using BeautifulSoup), and print the content from the Trending Developers page from GitHub:"
   ]
  },
  {
   "cell_type": "code",
   "execution_count": 2,
   "metadata": {},
   "outputs": [],
   "source": [
    "# This is the url you will scrape in this exercise\n",
    "url = 'https://github.com/trending/developers'"
   ]
  },
  {
   "cell_type": "code",
   "execution_count": 3,
   "metadata": {},
   "outputs": [],
   "source": [
    "html = requests.get(url)\n",
    "\n",
    "soup = BeautifulSoup(html.content,\"html.parser\")\n"
   ]
  },
  {
   "cell_type": "markdown",
   "metadata": {},
   "source": [
    "#### Display the names of the trending developers retrieved in the previous step.\n",
    "\n",
    "Your output should be a Python list of developer names. Each name should not contain any html tag.\n",
    "\n",
    "**Instructions:**\n",
    "\n",
    "1. Find out the html tag and class names used for the developer names. You can achieve this using Chrome DevTools.\n",
    "\n",
    "1. Use BeautifulSoup to extract all the html elements that contain the developer names.\n",
    "\n",
    "1. Use string manipulation techniques to replace whitespaces and linebreaks (i.e. `\\n`) in the *text* of each html element. Use a list to store the clean names.\n",
    "\n",
    "1. Print the list of names.\n",
    "\n",
    "Your output should look like below:\n",
    "\n",
    "```\n",
    "['trimstray (@trimstray)',\n",
    " 'joewalnes (JoeWalnes)',\n",
    " 'charlax (Charles-AxelDein)',\n",
    " 'ForrestKnight (ForrestKnight)',\n",
    " 'revery-ui (revery-ui)',\n",
    " 'alibaba (Alibaba)',\n",
    " 'Microsoft (Microsoft)',\n",
    " 'github (GitHub)',\n",
    " 'facebook (Facebook)',\n",
    " 'boazsegev (Bo)',\n",
    " 'google (Google)',\n",
    " 'cloudfetch',\n",
    " 'sindresorhus (SindreSorhus)',\n",
    " 'tensorflow',\n",
    " 'apache (TheApacheSoftwareFoundation)',\n",
    " 'DevonCrawford (DevonCrawford)',\n",
    " 'ARMmbed (ArmMbed)',\n",
    " 'vuejs (vuejs)',\n",
    " 'fastai (fast.ai)',\n",
    " 'QiShaoXuan (Qi)',\n",
    " 'joelparkerhenderson (JoelParkerHenderson)',\n",
    " 'torvalds (LinusTorvalds)',\n",
    " 'CyC2018',\n",
    " 'komeiji-satori (神楽坂覚々)',\n",
    " 'script-8']\n",
    " ```"
   ]
  },
  {
   "cell_type": "code",
   "execution_count": 4,
   "metadata": {
    "scrolled": true
   },
   "outputs": [
    {
     "data": {
      "text/plain": [
       "[<h1 class=\"h3 lh-condensed\">\n",
       " <a href=\"/wkentaro\">\n",
       "             Kentaro Wada\n",
       " </a>\n",
       " </h1>, <h1 class=\"h3 lh-condensed\">\n",
       " <a href=\"/Gargron\">\n",
       "             Eugen Rochko\n",
       " </a>\n",
       " </h1>, <h1 class=\"h3 lh-condensed\">\n",
       " <a href=\"/mitsuhiko\">\n",
       "             Armin Ronacher\n",
       " </a>\n",
       " </h1>, <h1 class=\"h3 lh-condensed\">\n",
       " <a href=\"/arvidn\">\n",
       "             Arvid Norberg\n",
       " </a>\n",
       " </h1>, <h1 class=\"h3 lh-condensed\">\n",
       " <a href=\"/davidfowl\">\n",
       "             David Fowler\n",
       " </a>\n",
       " </h1>, <h1 class=\"h3 lh-condensed\">\n",
       " <a href=\"/tpope\">\n",
       "             Tim Pope\n",
       " </a>\n",
       " </h1>, <h1 class=\"h3 lh-condensed\">\n",
       " <a href=\"/STRML\">\n",
       "             Samuel Reed\n",
       " </a>\n",
       " </h1>, <h1 class=\"h3 lh-condensed\">\n",
       " <a href=\"/balloob\">\n",
       "             Paulus Schoutsen\n",
       " </a>\n",
       " </h1>, <h1 class=\"h3 lh-condensed\">\n",
       " <a href=\"/navdeep-G\">\n",
       "             Navdeep Gill\n",
       " </a>\n",
       " </h1>, <h1 class=\"h3 lh-condensed\">\n",
       " <a href=\"/ahmadalfy\">\n",
       "             Ahmad Alfy\n",
       " </a>\n",
       " </h1>, <h1 class=\"h3 lh-condensed\">\n",
       " <a href=\"/maartenbreddels\">\n",
       "             Maarten Breddels\n",
       " </a>\n",
       " </h1>, <h1 class=\"h3 lh-condensed\">\n",
       " <a href=\"/aaugustin\">\n",
       "             Aymeric Augustin\n",
       " </a>\n",
       " </h1>, <h1 class=\"h3 lh-condensed\">\n",
       " <a href=\"/philipperemy\">\n",
       "             Philippe Rémy\n",
       " </a>\n",
       " </h1>, <h1 class=\"h3 lh-condensed\">\n",
       " <a href=\"/alexandru\">\n",
       "             Alexandru Nedelcu\n",
       " </a>\n",
       " </h1>, <h1 class=\"h3 lh-condensed\">\n",
       " <a href=\"/bastelfreak\">\n",
       "             Tim Meusel\n",
       " </a>\n",
       " </h1>, <h1 class=\"h3 lh-condensed\">\n",
       " <a href=\"/bahmutov\">\n",
       "             Gleb Bahmutov\n",
       " </a>\n",
       " </h1>, <h1 class=\"h3 lh-condensed\">\n",
       " <a href=\"/egoist\">\n",
       "             Kevin Titor\n",
       " </a>\n",
       " </h1>, <h1 class=\"h3 lh-condensed\">\n",
       " <a href=\"/fthomas\">\n",
       "             Frank S. Thomas\n",
       " </a>\n",
       " </h1>, <h1 class=\"h3 lh-condensed\">\n",
       " <a href=\"/huan\">\n",
       "             Huan (李卓桓)\n",
       " </a>\n",
       " </h1>, <h1 class=\"h3 lh-condensed\">\n",
       " <a href=\"/ageitgey\">\n",
       "             Adam Geitgey\n",
       " </a>\n",
       " </h1>, <h1 class=\"h3 lh-condensed\">\n",
       " <a href=\"/lukastaegert\">\n",
       "             Lukas Taegert-Atkinson\n",
       " </a>\n",
       " </h1>, <h1 class=\"h3 lh-condensed\">\n",
       " <a href=\"/CastagnaIT\">\n",
       "             Stefano Gottardo\n",
       " </a>\n",
       " </h1>, <h1 class=\"h3 lh-condensed\">\n",
       " <a href=\"/krasserm\">\n",
       "             Martin Krasser\n",
       " </a>\n",
       " </h1>, <h1 class=\"h3 lh-condensed\">\n",
       " <a href=\"/wenzhixin\">\n",
       "             文翼\n",
       " </a>\n",
       " </h1>, <h1 class=\"h3 lh-condensed\">\n",
       " <a href=\"/Koenkk\">\n",
       "             Koen Kanters\n",
       " </a>\n",
       " </h1>]"
      ]
     },
     "execution_count": 4,
     "metadata": {},
     "output_type": "execute_result"
    }
   ],
   "source": [
    "soup.find_all(\"h1\", class_=\"h3 lh-condensed\")"
   ]
  },
  {
   "cell_type": "code",
   "execution_count": 5,
   "metadata": {
    "scrolled": true
   },
   "outputs": [
    {
     "data": {
      "text/plain": [
       "['Kentaro Wada',\n",
       " 'Eugen Rochko',\n",
       " 'Armin Ronacher',\n",
       " 'Arvid Norberg',\n",
       " 'David Fowler',\n",
       " 'Tim Pope',\n",
       " 'Samuel Reed',\n",
       " 'Paulus Schoutsen',\n",
       " 'Navdeep Gill',\n",
       " 'Ahmad Alfy',\n",
       " 'Maarten Breddels',\n",
       " 'Aymeric Augustin',\n",
       " 'Philippe Rémy',\n",
       " 'Alexandru Nedelcu',\n",
       " 'Tim Meusel',\n",
       " 'Gleb Bahmutov',\n",
       " 'Kevin Titor',\n",
       " 'Frank S. Thomas',\n",
       " 'Huan (李卓桓)',\n",
       " 'Adam Geitgey',\n",
       " 'Lukas Taegert-Atkinson',\n",
       " 'Stefano Gottardo',\n",
       " 'Martin Krasser',\n",
       " '文翼',\n",
       " 'Koen Kanters']"
      ]
     },
     "execution_count": 5,
     "metadata": {},
     "output_type": "execute_result"
    }
   ],
   "source": [
    "developers = [name.get_text().strip() for name in soup.find_all(\"h1\", class_= \"h3 lh-condensed\")]\n",
    "\n",
    "developers"
   ]
  },
  {
   "cell_type": "markdown",
   "metadata": {},
   "source": [
    "#### Display the trending Python repositories in GitHub.\n",
    "\n",
    "The steps to solve this problem is similar to the previous one except that you need to find out the repository names instead of developer names."
   ]
  },
  {
   "cell_type": "code",
   "execution_count": 6,
   "metadata": {},
   "outputs": [],
   "source": [
    "# This is the url you will scrape in this exercise\n",
    "url = 'https://github.com/trending/python?since=daily'"
   ]
  },
  {
   "cell_type": "code",
   "execution_count": 7,
   "metadata": {},
   "outputs": [],
   "source": [
    "html = requests.get(url)\n",
    "\n",
    "soup = BeautifulSoup(html.content,\"html.parser\")"
   ]
  },
  {
   "cell_type": "code",
   "execution_count": 8,
   "metadata": {},
   "outputs": [
    {
     "data": {
      "text/plain": [
       "['domlysz - BlenderGIS',\n",
       " 'facebookresearch - pytorch3d',\n",
       " 'facebookresearch - meshrcnn',\n",
       " 'public-apis - public-apis',\n",
       " 'ReFirmLabs - binwalk',\n",
       " 'TheAlgorithms - Python',\n",
       " 'ageitgey - face_recognition',\n",
       " 'tensorflow - models',\n",
       " 'Manisso - fsociety',\n",
       " 'nvbn - thefuck',\n",
       " 'cycz - jdBuyMask',\n",
       " 'cyberman219 - cloudflare-vpn-for-desktop',\n",
       " 'python - cpython',\n",
       " 'ytdl-org - youtube-dl',\n",
       " 'KevinMusgrave - pytorch-metric-learning',\n",
       " 'sherlock-project - sherlock',\n",
       " 'aivivn - d2l-vn',\n",
       " 'deepfakes - faceswap',\n",
       " 'complexdb - zincbase',\n",
       " 'hzy46 - Deep-Learning-21-Examples',\n",
       " 'EvilCult - iptv-m3u-maker',\n",
       " 'programthink - zhao',\n",
       " '3b1b - manim',\n",
       " 'airbus-cert - comida',\n",
       " 'pytorch - examples']"
      ]
     },
     "execution_count": 8,
     "metadata": {},
     "output_type": "execute_result"
    }
   ],
   "source": [
    "repositories = [repo.get_text().strip().replace(\"/\\n\\n\\n\\n\",\"-\").replace(\"     \",\"\")\n",
    "                for repo in soup.find_all(\"h1\", class_=\"h3 lh-condensed\") ]\n",
    "\n",
    "repositories"
   ]
  },
  {
   "cell_type": "markdown",
   "metadata": {},
   "source": [
    "#### Display all the image links from Walt Disney wikipedia page."
   ]
  },
  {
   "cell_type": "code",
   "execution_count": 9,
   "metadata": {},
   "outputs": [],
   "source": [
    "# This is the url you will scrape in this exercise\n",
    "url = 'https://en.wikipedia.org/wiki/Walt_Disney'"
   ]
  },
  {
   "cell_type": "code",
   "execution_count": 10,
   "metadata": {},
   "outputs": [],
   "source": [
    "html = requests.get(url)\n",
    "\n",
    "soup = BeautifulSoup(html.content,\"html.parser\")"
   ]
  },
  {
   "cell_type": "code",
   "execution_count": 11,
   "metadata": {},
   "outputs": [
    {
     "name": "stdout",
     "output_type": "stream",
     "text": [
      "//upload.wikimedia.org/wikipedia/en/thumb/e/e7/Cscr-featured.svg/20px-Cscr-featured.svg.png\n",
      "//upload.wikimedia.org/wikipedia/en/thumb/1/1b/Semi-protection-shackle.svg/20px-Semi-protection-shackle.svg.png\n",
      "//upload.wikimedia.org/wikipedia/commons/thumb/d/df/Walt_Disney_1946.JPG/220px-Walt_Disney_1946.JPG\n",
      "//upload.wikimedia.org/wikipedia/commons/thumb/8/87/Walt_Disney_1942_signature.svg/150px-Walt_Disney_1942_signature.svg.png\n",
      "//upload.wikimedia.org/wikipedia/commons/thumb/c/c4/Walt_Disney_envelope_ca._1921.jpg/220px-Walt_Disney_envelope_ca._1921.jpg\n",
      "//upload.wikimedia.org/wikipedia/commons/thumb/4/4d/Newman_Laugh-O-Gram_%281921%29.webm/220px-seek%3D2-Newman_Laugh-O-Gram_%281921%29.webm.jpg\n",
      "//upload.wikimedia.org/wikipedia/commons/thumb/0/0d/Trolley_Troubles_poster.jpg/170px-Trolley_Troubles_poster.jpg\n",
      "//upload.wikimedia.org/wikipedia/commons/thumb/7/71/Walt_Disney_and_his_cartoon_creation_%22Mickey_Mouse%22_-_National_Board_of_Review_Magazine.jpg/170px-Walt_Disney_and_his_cartoon_creation_%22Mickey_Mouse%22_-_National_Board_of_Review_Magazine.jpg\n",
      "//upload.wikimedia.org/wikipedia/en/thumb/4/4e/Steamboat-willie.jpg/170px-Steamboat-willie.jpg\n",
      "//upload.wikimedia.org/wikipedia/commons/thumb/5/57/Walt_Disney_1935.jpg/170px-Walt_Disney_1935.jpg\n",
      "//upload.wikimedia.org/wikipedia/commons/thumb/c/cd/Walt_Disney_Snow_white_1937_trailer_screenshot_%2813%29.jpg/220px-Walt_Disney_Snow_white_1937_trailer_screenshot_%2813%29.jpg\n",
      "//upload.wikimedia.org/wikipedia/commons/thumb/1/15/Disney_drawing_goofy.jpg/170px-Disney_drawing_goofy.jpg\n",
      "//upload.wikimedia.org/wikipedia/commons/thumb/1/13/DisneySchiphol1951.jpg/220px-DisneySchiphol1951.jpg\n",
      "//upload.wikimedia.org/wikipedia/commons/thumb/8/8c/WaltDisneyplansDisneylandDec1954.jpg/220px-WaltDisneyplansDisneylandDec1954.jpg\n",
      "//upload.wikimedia.org/wikipedia/commons/thumb/f/ff/Walt_disney_portrait_right.jpg/170px-Walt_disney_portrait_right.jpg\n",
      "//upload.wikimedia.org/wikipedia/commons/thumb/1/1a/Walt_Disney_Grave.JPG/170px-Walt_Disney_Grave.JPG\n",
      "//upload.wikimedia.org/wikipedia/commons/thumb/2/2d/Roy_O._Disney_with_Company_at_Press_Conference.jpg/170px-Roy_O._Disney_with_Company_at_Press_Conference.jpg\n",
      "//upload.wikimedia.org/wikipedia/commons/thumb/a/a9/Disney_Display_Case.JPG/170px-Disney_Display_Case.JPG\n",
      "//upload.wikimedia.org/wikipedia/commons/thumb/6/6c/Disney1968.jpg/170px-Disney1968.jpg\n",
      "//upload.wikimedia.org/wikipedia/en/thumb/8/8a/OOjs_UI_icon_edit-ltr-progressive.svg/10px-OOjs_UI_icon_edit-ltr-progressive.svg.png\n",
      "//upload.wikimedia.org/wikipedia/commons/thumb/4/44/The_Walt_Disney_Company_Logo.svg/120px-The_Walt_Disney_Company_Logo.svg.png\n",
      "//upload.wikimedia.org/wikipedia/commons/thumb/d/da/Animation_disc.svg/30px-Animation_disc.svg.png\n",
      "//upload.wikimedia.org/wikipedia/en/thumb/6/69/P_vip.svg/29px-P_vip.svg.png\n",
      "//upload.wikimedia.org/wikipedia/commons/thumb/1/1a/Magic_Kingdom_castle.jpg/24px-Magic_Kingdom_castle.jpg\n",
      "//upload.wikimedia.org/wikipedia/en/thumb/e/e7/Video-x-generic.svg/30px-Video-x-generic.svg.png\n",
      "//upload.wikimedia.org/wikipedia/commons/thumb/a/a3/Flag_of_Los_Angeles_County%2C_California.svg/30px-Flag_of_Los_Angeles_County%2C_California.svg.png\n",
      "//upload.wikimedia.org/wikipedia/commons/thumb/8/8c/Blank_television_set.svg/30px-Blank_television_set.svg.png\n",
      "//upload.wikimedia.org/wikipedia/en/thumb/a/a4/Flag_of_the_United_States.svg/30px-Flag_of_the_United_States.svg.png\n",
      "//upload.wikimedia.org/wikipedia/en/thumb/4/4a/Commons-logo.svg/22px-Commons-logo.svg.png\n",
      "//upload.wikimedia.org/wikipedia/commons/thumb/f/fa/Wikiquote-logo.svg/25px-Wikiquote-logo.svg.png\n",
      "//upload.wikimedia.org/wikipedia/commons/thumb/f/ff/Wikidata-logo.svg/30px-Wikidata-logo.svg.png\n",
      "//upload.wikimedia.org/wikipedia/en/thumb/8/8a/OOjs_UI_icon_edit-ltr-progressive.svg/10px-OOjs_UI_icon_edit-ltr-progressive.svg.png\n",
      "//en.wikipedia.org/wiki/Special:CentralAutoLogin/start?type=1x1\n",
      "/static/images/wikimedia-button.png\n",
      "/static/images/poweredby_mediawiki_88x31.png\n"
     ]
    }
   ],
   "source": [
    "for image in soup.find_all(\"img\"):\n",
    "    print(image[\"src\"])"
   ]
  },
  {
   "cell_type": "markdown",
   "metadata": {},
   "source": [
    "#### Find the number of titles that have changed in the United States Code since its last release point."
   ]
  },
  {
   "cell_type": "code",
   "execution_count": 12,
   "metadata": {},
   "outputs": [],
   "source": [
    "# This is the url you will scrape in this exercise\n",
    "url = 'http://uscode.house.gov/download/download.shtml'"
   ]
  },
  {
   "cell_type": "code",
   "execution_count": 13,
   "metadata": {},
   "outputs": [],
   "source": [
    "html = requests.get(url)\n",
    "\n",
    "soup = BeautifulSoup(html.content,\"html.parser\")"
   ]
  },
  {
   "cell_type": "code",
   "execution_count": 14,
   "metadata": {},
   "outputs": [
    {
     "name": "stdout",
     "output_type": "stream",
     "text": [
      "All titles in the format selected compressed into a zip archive.\n",
      "\n",
      "Title 1 - General Provisions ٭\n",
      "Title 2 - The Congress\n",
      "Title 3 - The President ٭\n",
      "Title 4 - Flag and Seal, Seat of Government, and the States ٭\n",
      "Title 5 - Government Organization and Employees ٭\n",
      "Title 6 - Domestic Security\n",
      "Title 7 - Agriculture\n",
      "Title 8 - Aliens and Nationality\n",
      "Title 9 - Arbitration ٭\n",
      "Title 10 - Armed Forces ٭\n",
      "Title 11 - Bankruptcy ٭\n",
      "Title 12 - Banks and Banking\n",
      "Title 13 - Census ٭\n",
      "Title 14 - Coast Guard ٭\n",
      "Title 15 - Commerce and Trade\n",
      "Title 16 - Conservation\n",
      "Title 17 - Copyrights ٭\n",
      "Title 19 - Customs Duties\n",
      "Title 21 - Food and Drugs\n",
      "Title 22 - Foreign Relations and Intercourse\n",
      "Title 23 - Highways ٭\n",
      "Title 24 - Hospitals and Asylums\n",
      "Title 25 - Indians\n",
      "Title 27 - Intoxicating Liquors\n",
      "Title 28 - Judiciary and Judicial Procedure ٭\n",
      "Title 29 - Labor\n",
      "Title 30 - Mineral Lands and Mining\n",
      "Title 31 - Money and Finance ٭\n",
      "Title 32 - National Guard ٭\n",
      "Title 33 - Navigation and Navigable Waters\n",
      "Title 34 - Crime Control and Law Enforcement\n",
      "Title 35 - Patents ٭\n",
      "Title 36 - Patriotic and National Observances, Ceremonies, and Organizations ٭\n",
      "Title 37 - Pay and Allowances of the Uniformed Services ٭\n",
      "Title 38 - Veterans' Benefits ٭\n",
      "Title 39 - Postal Service ٭\n",
      "Title 40 - Public Buildings, Property, and Works ٭\n",
      "Title 41 - Public Contracts ٭\n",
      "Title 42 - The Public Health and Welfare\n",
      "Title 43 - Public Lands\n",
      "Title 44 - Public Printing and Documents ٭\n",
      "Title 45 - Railroads\n",
      "Title 46 - Shipping ٭\n",
      "Title 47 - Telecommunications\n",
      "Title 48 - Territories and Insular Possessions\n",
      "Title 49 - Transportation ٭\n",
      "Title 50 - War and National Defense\n",
      "Title 51 - National and Commercial Space Programs ٭\n",
      "Title 52 - Voting and Elections\n",
      "Title 53 [Reserved]\n",
      "Title 54 - National Park Service and Related Programs ٭\n"
     ]
    }
   ],
   "source": [
    "for title in soup.find_all(\"div\", {\"class\":\"usctitle\"}):\n",
    "    print(title.get_text().strip())\n"
   ]
  },
  {
   "cell_type": "markdown",
   "metadata": {},
   "source": [
    "#### Find a Python list with the top ten FBI's Most Wanted names."
   ]
  },
  {
   "cell_type": "code",
   "execution_count": 15,
   "metadata": {},
   "outputs": [],
   "source": [
    "# This is the url you will scrape in this exercise\n",
    "\n",
    "page = requests.get(\"https://www.fbi.gov/wanted/topten\")\n",
    "soup = BeautifulSoup(page.content, \"html.parser\")"
   ]
  },
  {
   "cell_type": "code",
   "execution_count": 16,
   "metadata": {},
   "outputs": [
    {
     "data": {
      "text/plain": [
       "['Yaser Abdel Said',\n",
       " 'Jason Derek Brown',\n",
       " 'Alexis Flores',\n",
       " 'Eugene Palmer',\n",
       " 'Santiago Villalba Mederos',\n",
       " 'Rafael Caro-Quintero',\n",
       " 'Robert William Fisher',\n",
       " 'Bhadreshkumar Chetanbhai Patel',\n",
       " 'Arnoldo Jimenez',\n",
       " 'Alejandro Rosales Castillo']"
      ]
     },
     "execution_count": 16,
     "metadata": {},
     "output_type": "execute_result"
    }
   ],
   "source": [
    "top_ten_wanted = [href.text.title().strip() for href in soup.find_all(\"h3\",class_= \"title\" )]    \n",
    "top_ten_wanted"
   ]
  },
  {
   "cell_type": "markdown",
   "metadata": {},
   "source": [
    "#### Count the number of tweets by a given Twitter account.\n",
    "Ask the user for the handle (@handle) of a twitter account. You will need to include a ***try/except block*** for account names not found. \n",
    "<br>***Hint:*** the program should count the number of tweets for any provided account."
   ]
  },
  {
   "cell_type": "code",
   "execution_count": 18,
   "metadata": {},
   "outputs": [],
   "source": [
    "# This is the url you will scrape in this exercise \n",
    "# You will need to add the account credentials to this url\n",
    "url = requests.get('https://twitter.com/Google')\n",
    "soup = BeautifulSoup(url.content, \"lxml\")"
   ]
  },
  {
   "cell_type": "code",
   "execution_count": 19,
   "metadata": {},
   "outputs": [
    {
     "data": {
      "text/plain": [
       "'105476'"
      ]
     },
     "execution_count": 19,
     "metadata": {},
     "output_type": "execute_result"
    }
   ],
   "source": [
    "soup.find_all(\"span\", attrs={\"class\": \"ProfileNav-value\"})[0].get(\"data-count\")"
   ]
  },
  {
   "cell_type": "markdown",
   "metadata": {},
   "source": [
    "#### Number of followers of a given twitter account\n",
    "Ask the user for the handle (@handle) of a twitter account. You will need to include a ***try/except block*** for account names not found. \n",
    "<br>***Hint:*** the program should count the followers for any provided account."
   ]
  },
  {
   "cell_type": "code",
   "execution_count": 20,
   "metadata": {},
   "outputs": [],
   "source": [
    "# This is the url you will scrape in this exercise \n",
    "# You will need to add the account credentials to this url\n",
    "url = 'https://twitter.com/'\n"
   ]
  },
  {
   "cell_type": "code",
   "execution_count": 21,
   "metadata": {},
   "outputs": [
    {
     "data": {
      "text/plain": [
       "'21773272'"
      ]
     },
     "execution_count": 21,
     "metadata": {},
     "output_type": "execute_result"
    }
   ],
   "source": [
    "soup.find_all(\"span\", attrs={\"class\": \"ProfileNav-value\"})[2].get(\"data-count\")\n"
   ]
  },
  {
   "cell_type": "markdown",
   "metadata": {},
   "source": [
    "#### List all language names and number of related articles in the order they appear in wikipedia.org."
   ]
  },
  {
   "cell_type": "code",
   "execution_count": 22,
   "metadata": {},
   "outputs": [],
   "source": [
    "# This is the url you will scrape in this exercise\n",
    "url = 'https://www.wikipedia.org/'\n",
    "page = requests.get(url)\n",
    "soup = BeautifulSoup(page.content, \"html.parser\")"
   ]
  },
  {
   "cell_type": "code",
   "execution_count": 23,
   "metadata": {
    "scrolled": true
   },
   "outputs": [],
   "source": [
    "# getting language and number of speakers and adding these to a dictionary\n",
    "\n",
    "languages_dict = {}\n",
    "\n",
    "section = soup.find_all(\"div\", {\"class\": \"central-featured\"})\n",
    "for element in section:\n",
    "    language = element.find_all(\"strong\")\n",
    "    for lang in language:\n",
    "        lang = lang.get_text()\n",
    "        #print(lang)\n",
    "    \n",
    "for number in section:\n",
    "    speakers = number.find_all(\"small\")\n",
    "    for x in speakers:\n",
    "        x = x.get_text()\n",
    "        clean = re.findall(\"\\d+\",x)\n",
    "        clean = \"\".join(clean)\n",
    "        #print(clean)\n",
    "        \n",
    "languages_dict[lang] = clean\n",
    "     "
   ]
  },
  {
   "cell_type": "code",
   "execution_count": 24,
   "metadata": {},
   "outputs": [
    {
     "data": {
      "text/plain": [
       "{'Polski': '1379000'}"
      ]
     },
     "execution_count": 24,
     "metadata": {},
     "output_type": "execute_result"
    }
   ],
   "source": [
    "languages_dict"
   ]
  },
  {
   "cell_type": "markdown",
   "metadata": {},
   "source": [
    "#### A list with the different kind of datasets available in data.gov.uk."
   ]
  },
  {
   "cell_type": "code",
   "execution_count": 25,
   "metadata": {},
   "outputs": [],
   "source": [
    "# This is the url you will scrape in this exercise\n",
    "url = 'https://data.gov.uk/'\n",
    "page = requests.get(url)\n",
    "soup = BeautifulSoup(page.content, \"html.parser\")"
   ]
  },
  {
   "cell_type": "code",
   "execution_count": 26,
   "metadata": {},
   "outputs": [
    {
     "name": "stdout",
     "output_type": "stream",
     "text": [
      "Business and economy\n",
      "Crime and justice\n",
      "Defence\n",
      "Education\n",
      "Environment\n",
      "Government\n",
      "Government spending\n",
      "Health\n",
      "Mapping\n",
      "Society\n",
      "Towns and cities\n",
      "Transport\n"
     ]
    }
   ],
   "source": [
    "for line in soup.find_all(\"h2\"):\n",
    "    line = line.string\n",
    "    print(line)\n"
   ]
  },
  {
   "cell_type": "markdown",
   "metadata": {},
   "source": [
    "#### Display the top 10 languages by number of native speakers stored in a pandas dataframe."
   ]
  },
  {
   "cell_type": "code",
   "execution_count": 62,
   "metadata": {},
   "outputs": [],
   "source": [
    "# This is the url you will scrape in this exercise\n",
    "url = 'https://en.wikipedia.org/wiki/List_of_languages_by_number_of_native_speakers'\n",
    "page = requests.get(url)\n",
    "soup = BeautifulSoup(page.content, \"html.parser\")"
   ]
  },
  {
   "cell_type": "code",
   "execution_count": 64,
   "metadata": {},
   "outputs": [
    {
     "data": {
      "text/html": [
       "<div>\n",
       "<style scoped>\n",
       "    .dataframe tbody tr th:only-of-type {\n",
       "        vertical-align: middle;\n",
       "    }\n",
       "\n",
       "    .dataframe tbody tr th {\n",
       "        vertical-align: top;\n",
       "    }\n",
       "\n",
       "    .dataframe thead th {\n",
       "        text-align: right;\n",
       "    }\n",
       "</style>\n",
       "<table border=\"1\" class=\"dataframe\">\n",
       "  <thead>\n",
       "    <tr style=\"text-align: right;\">\n",
       "      <th></th>\n",
       "      <th>Rank</th>\n",
       "      <th>Language</th>\n",
       "      <th>Speakers(millions)</th>\n",
       "      <th>% of the World population (March 2019)[8]</th>\n",
       "      <th>Language familyBranch</th>\n",
       "    </tr>\n",
       "  </thead>\n",
       "  <tbody>\n",
       "    <tr>\n",
       "      <th>0</th>\n",
       "      <td>1</td>\n",
       "      <td>Mandarin Chinese</td>\n",
       "      <td>918</td>\n",
       "      <td>11.922</td>\n",
       "      <td>Sino-TibetanSinitic</td>\n",
       "    </tr>\n",
       "    <tr>\n",
       "      <th>1</th>\n",
       "      <td>2</td>\n",
       "      <td>Spanish</td>\n",
       "      <td>480</td>\n",
       "      <td>5.994</td>\n",
       "      <td>Indo-EuropeanRomance</td>\n",
       "    </tr>\n",
       "    <tr>\n",
       "      <th>2</th>\n",
       "      <td>3</td>\n",
       "      <td>English</td>\n",
       "      <td>379</td>\n",
       "      <td>4.922</td>\n",
       "      <td>Indo-EuropeanGermanic</td>\n",
       "    </tr>\n",
       "    <tr>\n",
       "      <th>3</th>\n",
       "      <td>4</td>\n",
       "      <td>Hindi (Sanskritised Hindustani)</td>\n",
       "      <td>341</td>\n",
       "      <td>4.429</td>\n",
       "      <td>Indo-EuropeanIndo-Aryan</td>\n",
       "    </tr>\n",
       "    <tr>\n",
       "      <th>4</th>\n",
       "      <td>5</td>\n",
       "      <td>Bengali</td>\n",
       "      <td>228</td>\n",
       "      <td>2.961</td>\n",
       "      <td>Indo-EuropeanIndo-Aryan</td>\n",
       "    </tr>\n",
       "  </tbody>\n",
       "</table>\n",
       "</div>"
      ],
      "text/plain": [
       "   Rank                         Language Speakers(millions)  \\\n",
       "0     1                 Mandarin Chinese                918   \n",
       "1     2                          Spanish                480   \n",
       "2     3                          English                379   \n",
       "3     4  Hindi (Sanskritised Hindustani)                341   \n",
       "4     5                          Bengali                228   \n",
       "\n",
       "  % of the World population (March 2019)[8]    Language familyBranch   \n",
       "0                                    11.922      Sino-TibetanSinitic   \n",
       "1                                     5.994     Indo-EuropeanRomance   \n",
       "2                                     4.922    Indo-EuropeanGermanic   \n",
       "3                                     4.429  Indo-EuropeanIndo-Aryan   \n",
       "4                                     2.961  Indo-EuropeanIndo-Aryan   "
      ]
     },
     "execution_count": 64,
     "metadata": {},
     "output_type": "execute_result"
    }
   ],
   "source": [
    "table_body = soup.find_all('tbody')[0]\n",
    "\n",
    "rows = table_body.find_all('tr')\n",
    "rows_clean = [row.text.replace('\\n', ' ').replace('\\xa0', '').split('  ') for row in rows]\n",
    "\n",
    "\n",
    "df = pd.DataFrame(rows_clean[1:11], columns = rows_clean[0])\n",
    "df['Language'] = df['Language'].apply(lambda x: x.split('[')[0])\n",
    "df.head()"
   ]
  },
  {
   "cell_type": "markdown",
   "metadata": {},
   "source": [
    "#### Scrape a certain number of tweets of a given Twitter account."
   ]
  },
  {
   "cell_type": "code",
   "execution_count": 73,
   "metadata": {},
   "outputs": [],
   "source": [
    "# This is the url you will scrape in this exercise \n",
    "# You will need to add the account credentials to this url\n",
    "url = 'https://twitter.com/Google'\n",
    "page = requests.get(url)\n",
    "soup = BeautifulSoup(page.content, \"html.parser\")"
   ]
  },
  {
   "cell_type": "markdown",
   "metadata": {},
   "source": [
    "#### Display IMDB's top 250 data (movie name, initial release, director name and stars) as a pandas dataframe."
   ]
  },
  {
   "cell_type": "code",
   "execution_count": 75,
   "metadata": {},
   "outputs": [],
   "source": [
    "# This is the url you will scrape in this exercise \n",
    "url = 'https://www.imdb.com/chart/top'\n",
    "page = requests.get(url)\n",
    "soup = BeautifulSoup(page.content, \"html.parser\")"
   ]
  },
  {
   "cell_type": "code",
   "execution_count": 78,
   "metadata": {
    "scrolled": true
   },
   "outputs": [
    {
     "ename": "SyntaxError",
     "evalue": "keyword can't be an expression (<ipython-input-78-5be038010e3b>, line 1)",
     "output_type": "error",
     "traceback": [
      "\u001b[0;36m  File \u001b[0;32m\"<ipython-input-78-5be038010e3b>\"\u001b[0;36m, line \u001b[0;32m1\u001b[0m\n\u001b[0;31m    soup.find_all(\"class\"=\"lister-list\")\u001b[0m\n\u001b[0m                 ^\u001b[0m\n\u001b[0;31mSyntaxError\u001b[0m\u001b[0;31m:\u001b[0m keyword can't be an expression\n"
     ]
    }
   ],
   "source": []
  },
  {
   "cell_type": "markdown",
   "metadata": {},
   "source": [
    "#### Display the movie name, year and a brief summary of the top 10 random movies (IMDB) as a pandas dataframe."
   ]
  },
  {
   "cell_type": "code",
   "execution_count": null,
   "metadata": {},
   "outputs": [],
   "source": [
    "#This is the url you will scrape in this exercise\n",
    "url = 'http://www.imdb.com/chart/top'"
   ]
  },
  {
   "cell_type": "code",
   "execution_count": null,
   "metadata": {},
   "outputs": [],
   "source": [
    "# your code here"
   ]
  },
  {
   "cell_type": "markdown",
   "metadata": {},
   "source": [
    "## Bonus"
   ]
  },
  {
   "cell_type": "markdown",
   "metadata": {},
   "source": [
    "#### Find the live weather report (temperature, wind speed, description and weather) of a given city."
   ]
  },
  {
   "cell_type": "code",
   "execution_count": null,
   "metadata": {},
   "outputs": [],
   "source": [
    "#https://openweathermap.org/current\n",
    "city = input('Enter the city: ')\n",
    "url = 'http://api.openweathermap.org/data/2.5/weather?'+'q='+city+'&APPID=b35975e18dc93725acb092f7272cc6b8&units=metric'"
   ]
  },
  {
   "cell_type": "code",
   "execution_count": null,
   "metadata": {},
   "outputs": [],
   "source": [
    "# your code here"
   ]
  },
  {
   "cell_type": "markdown",
   "metadata": {},
   "source": [
    "#### Find the book name, price and stock availability as a pandas dataframe."
   ]
  },
  {
   "cell_type": "code",
   "execution_count": null,
   "metadata": {},
   "outputs": [],
   "source": [
    "# This is the url you will scrape in this exercise. \n",
    "# It is a fictional bookstore created to be scraped. \n",
    "url = 'http://books.toscrape.com/'"
   ]
  },
  {
   "cell_type": "code",
   "execution_count": null,
   "metadata": {},
   "outputs": [],
   "source": [
    "# your code here"
   ]
  },
  {
   "cell_type": "markdown",
   "metadata": {},
   "source": [
    "####  Display the 20 latest earthquakes info (date, time, latitude, longitude and region name) by the EMSC as a pandas dataframe."
   ]
  },
  {
   "cell_type": "code",
   "execution_count": null,
   "metadata": {},
   "outputs": [],
   "source": [
    "# This is the url you will scrape in this exercise\n",
    "url = 'https://www.emsc-csem.org/Earthquake/'"
   ]
  },
  {
   "cell_type": "code",
   "execution_count": null,
   "metadata": {},
   "outputs": [],
   "source": [
    "# your code here"
   ]
  }
 ],
 "metadata": {
  "kernelspec": {
   "display_name": "Python 3",
   "language": "python",
   "name": "python3"
  },
  "language_info": {
   "codemirror_mode": {
    "name": "ipython",
    "version": 3
   },
   "file_extension": ".py",
   "mimetype": "text/x-python",
   "name": "python",
   "nbconvert_exporter": "python",
   "pygments_lexer": "ipython3",
   "version": "3.7.2"
  }
 },
 "nbformat": 4,
 "nbformat_minor": 2
}
